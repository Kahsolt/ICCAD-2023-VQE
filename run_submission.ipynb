{
 "cells": [
  {
   "cell_type": "markdown",
   "id": "61143c69",
   "metadata": {},
   "source": [
    "# Final submission\n",
    "\n",
    "- less gates, less noises: optimze a shallow circuit with naive VQE + CHC-S + COBYLA\n",
    "- unbalanced better than balanced: a bit random disturb on ansatz `zeros` init point\n",
    "- less pulses, less noises and faster: apply instrution optimization at QASM level"
   ]
  },
  {
   "cell_type": "code",
   "execution_count": 1,
   "id": "6a592081",
   "metadata": {},
   "outputs": [
    {
     "name": "stdout",
     "output_type": "stream",
     "text": [
      "args:\n",
      "{'H': 'd:\\\\Desktop\\\\Workspace\\\\@Contest\\\\ICCAD 2023 Drug Discovery '\n",
      "      'Challenge\\\\QC-Contest-Demo\\\\Hamiltonian\\\\OHhamiltonian.txt',\n",
      " 'N': '',\n",
      " 'S': 'Montreal',\n",
      " 'device': 'CPU',\n",
      " 'exp_dp': None,\n",
      " 'seed': None,\n",
      " 'shots': 6000,\n",
      " 'simulator': 'automatic',\n",
      " 'thresh': 0.0}\n",
      "\n",
      "required seeds: [20, 21, 30, 33, 36, 42, 43, 55, 67, 170]\n"
     ]
    }
   ],
   "source": [
    "from pprint import pprint as pp\n",
    "import utils; utils.log = lambda *args, **kwargs: None   # mute debug log\n",
    "from run_eval import *\n",
    "\n",
    "# the common settings for all\n",
    "args = Namespace()\n",
    "args.S = 'Montreal'           # system model\n",
    "args.N = ''                   # noise model\n",
    "args.simulator = 'automatic'  # Aer simulator\n",
    "args.device = 'CPU'           # Aer device\n",
    "args.shots = 6000             # fixed as contest\n",
    "args.H = str(HAM_FILE)        # load ham from 'OHhamiltonian.txt'\n",
    "args.thresh = 0.0             # ham trim thresh\n",
    "args.exp_dp = None            # leave it blank so far\n",
    "args.seed = None              # leave it blank so far\n",
    "print('args:')\n",
    "pp(vars(args))\n",
    "print()\n",
    "\n",
    "# the required seeds to average\n",
    "print('required seeds:', seeds)"
   ]
  },
  {
   "cell_type": "markdown",
   "id": "233a1b8d",
   "metadata": {},
   "source": [
    "⚪ ref_val"
   ]
  },
  {
   "cell_type": "code",
   "execution_count": 2,
   "id": "f8ac45b4",
   "metadata": {},
   "outputs": [
    {
     "name": "stdout",
     "output_type": "stream",
     "text": [
      "ref_val: -74.3871462681872\n"
     ]
    }
   ],
   "source": [
    "# the ref_val (ground truth)\n",
    "ref_val = solver_const(None, None)\n",
    "print('ref_val:', ref_val)"
   ]
  },
  {
   "cell_type": "code",
   "execution_count": 3,
   "id": "2408ac1a",
   "metadata": {},
   "outputs": [],
   "source": [
    "# helper func\n",
    "def eval_with_seed(args, seed:int, run_pulse:bool=True) -> Tuple[float, int]:\n",
    "  args.seed = seed\n",
    "  seed_everything(seed)\n",
    "  return eval(args, is_run_pulse=run_pulse)\n",
    "\n",
    "mean = lambda x: sum(x) / len(x) if len(x) else 0.0\n",
    "error = lambda x, y: abs(x - y)\n",
    "error_rate = lambda x, y: error(x, y) / abs(y)\n",
    "\n",
    "def eval_qsam_over_seeds(args):\n",
    "  # load pretrained qasm\n",
    "  args.qsam_fp = args.exp_dp / 'ansatz_t.qsam'\n",
    "  args.layout_fp = args.exp_dp / 'ansatz_t.layout'\n",
    "\n",
    "  # run over different seeds\n",
    "  energies, duration = [], None\n",
    "  for i, seed in enumerate(seeds, 1):\n",
    "    ene, dur = eval_with_seed(args, seed, run_pulse=i==1)\n",
    "    print(f'[{i}/{len(seeds)}] seed: {seed}, ene: {ene}')\n",
    "    energies.append(ene)\n",
    "    if dur is not None: duration = dur\n",
    "  enegry = mean(energies)\n",
    "\n",
    "  # average results\n",
    "  print('=' * 42)\n",
    "  print('enegry:', enegry)\n",
    "  print('duration:', duration)\n",
    "  print('error:', error(enegry, ref_val))\n",
    "  print(f'error rate: {error_rate(enegry, ref_val):%}')"
   ]
  },
  {
   "cell_type": "markdown",
   "id": "3c4ceacc",
   "metadata": {},
   "source": [
    "⚪ cairo"
   ]
  },
  {
   "cell_type": "code",
   "execution_count": 4,
   "id": "f0abdab3",
   "metadata": {},
   "outputs": [
    {
     "name": "stdout",
     "output_type": "stream",
     "text": [
      "[1/10] seed: 20, ene: -69.11139417296809\n",
      "[2/10] seed: 21, ene: -68.97114970791017\n",
      "[3/10] seed: 30, ene: -69.16073187307605\n",
      "[4/10] seed: 33, ene: -69.00671669325858\n",
      "[5/10] seed: 36, ene: -68.90630251684358\n",
      "[6/10] seed: 42, ene: -68.97104080428488\n",
      "[7/10] seed: 43, ene: -69.07062703016864\n",
      "[8/10] seed: 55, ene: -69.07335774085372\n",
      "[9/10] seed: 67, ene: -69.11696980427236\n",
      "[10/10] seed: 170, ene: -68.9312336639572\n",
      "==========================================\n",
      "enegry: -69.03195240075932\n",
      "duration: 54720\n",
      "error: 5.355193867427872\n",
      "error rate: 7.199085%\n"
     ]
    }
   ],
   "source": [
    "args.N = 'cairo'\n",
    "args.exp_dp = Path('log') / 'final_cairo'\n",
    "\n",
    "eval_qsam_over_seeds(args)"
   ]
  },
  {
   "cell_type": "markdown",
   "id": "6588fb94",
   "metadata": {},
   "source": [
    "⚪ kolkata"
   ]
  },
  {
   "cell_type": "code",
   "execution_count": 5,
   "id": "b41d7248",
   "metadata": {},
   "outputs": [
    {
     "name": "stdout",
     "output_type": "stream",
     "text": [
      "[1/10] seed: 20, ene: -70.2328895154707\n",
      "[2/10] seed: 21, ene: -70.37434193042415\n",
      "[3/10] seed: 30, ene: -70.21706384716643\n",
      "[4/10] seed: 33, ene: -70.36939881875236\n",
      "[5/10] seed: 36, ene: -70.02593568133052\n",
      "[6/10] seed: 42, ene: -69.93228657505138\n",
      "[7/10] seed: 43, ene: -70.16115412639735\n",
      "[8/10] seed: 55, ene: -70.24382127930383\n",
      "[9/10] seed: 67, ene: -70.25425025852559\n",
      "[10/10] seed: 170, ene: -70.22571716980066\n",
      "==========================================\n",
      "enegry: -70.2036859202223\n",
      "duration: 54720\n",
      "error: 4.183460347964896\n",
      "error rate: 5.623902%\n"
     ]
    }
   ],
   "source": [
    "args.N = 'kolkata'\n",
    "args.exp_dp = Path('log') / 'final_kolkata'\n",
    "\n",
    "eval_qsam_over_seeds(args)"
   ]
  },
  {
   "cell_type": "markdown",
   "id": "358a39e2",
   "metadata": {},
   "source": [
    "⚪ montreal"
   ]
  },
  {
   "cell_type": "code",
   "execution_count": 6,
   "id": "e3157312",
   "metadata": {},
   "outputs": [
    {
     "name": "stdout",
     "output_type": "stream",
     "text": [
      "[1/10] seed: 20, ene: -69.02157813146442\n",
      "[2/10] seed: 21, ene: -69.30033624299611\n",
      "[3/10] seed: 30, ene: -69.01286361552518\n",
      "[4/10] seed: 33, ene: -69.09466674766409\n",
      "[5/10] seed: 36, ene: -68.8731209171242\n",
      "[6/10] seed: 42, ene: -68.90867789020665\n",
      "[7/10] seed: 43, ene: -68.88077757703296\n",
      "[8/10] seed: 55, ene: -69.0950297324026\n",
      "[9/10] seed: 67, ene: -69.027826363135\n",
      "[10/10] seed: 170, ene: -69.08864707984091\n",
      "==========================================\n",
      "enegry: -69.03035242973921\n",
      "duration: 54720\n",
      "error: 5.3567938384479845\n",
      "error rate: 7.201236%\n"
     ]
    }
   ],
   "source": [
    "args.N = 'montreal'\n",
    "args.exp_dp = Path('log') / 'final_montreal'\n",
    "\n",
    "eval_qsam_over_seeds(args)"
   ]
  },
  {
   "cell_type": "markdown",
   "id": "44ee37f2",
   "metadata": {},
   "source": [
    "⚠ noiseless (for debug use, not for final submission)"
   ]
  },
  {
   "cell_type": "code",
   "execution_count": null,
   "id": "7d7bc3e5",
   "metadata": {},
   "outputs": [],
   "source": [
    "args.N = ''\n",
    "args.exp_dp = Path('log') / 'test'\n",
    "\n",
    "eval_qsam_over_seeds(args)"
   ]
  }
 ],
 "metadata": {
  "kernelspec": {
   "display_name": "Python 3 (ipykernel)",
   "language": "python",
   "name": "python3"
  },
  "language_info": {
   "codemirror_mode": {
    "name": "ipython",
    "version": 3
   },
   "file_extension": ".py",
   "mimetype": "text/x-python",
   "name": "python",
   "nbconvert_exporter": "python",
   "pygments_lexer": "ipython3",
   "version": "3.11.4"
  }
 },
 "nbformat": 4,
 "nbformat_minor": 5
}
