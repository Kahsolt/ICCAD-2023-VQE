{
 "cells": [
  {
   "cell_type": "markdown",
   "id": "61143c69",
   "metadata": {},
   "source": [
    "# Final submission\n",
    "\n",
    "- less gates, less noises: optimze a shallow circuit with naive VQE + CHC-S + COBYLA\n",
    "- unbalanced better than balanced: a bit random disturb on ansatz `zeros` init point\n",
    "- less pulses, less noises and faster: apply instrution optimization at QASM level"
   ]
  },
  {
   "cell_type": "code",
   "execution_count": 1,
   "id": "6a592081",
   "metadata": {},
   "outputs": [
    {
     "name": "stdout",
     "output_type": "stream",
     "text": [
      "args:\n",
      "{'H': 'd:\\\\Desktop\\\\Workspace\\\\@Contest\\\\ICCAD 2023 Drug Discovery '\n",
      "      'Challenge\\\\QC-Contest-Demo\\\\Hamiltonian\\\\OHhamiltonian.txt',\n",
      " 'N': '',\n",
      " 'S': 'Montreal',\n",
      " 'device': 'CPU',\n",
      " 'exp_dp': None,\n",
      " 'seed': None,\n",
      " 'shots': 6000,\n",
      " 'simulator': 'automatic',\n",
      " 'thresh': 0.0}\n",
      "\n",
      "required seeds: [20, 21, 30, 33, 36, 42, 43, 55, 67, 170]\n"
     ]
    }
   ],
   "source": [
    "from pprint import pprint as pp\n",
    "import utils; utils.log = lambda *args, **kwargs: None   # mute debug log\n",
    "from run_eval import *\n",
    "\n",
    "# the common settings for all\n",
    "args = Namespace()\n",
    "args.S = 'Montreal'           # system model\n",
    "args.N = ''                   # noise model\n",
    "args.simulator = 'automatic'  # Aer simulator\n",
    "args.device = 'CPU'           # Aer device\n",
    "args.shots = 6000             # fixed as contest\n",
    "args.H = str(HAM_FILE)        # load ham from 'OHhamiltonian.txt'\n",
    "args.thresh = 0.0             # ham trim thresh\n",
    "args.exp_dp = None            # leave it blank so far\n",
    "args.seed = None              # leave it blank so far\n",
    "print('args:')\n",
    "pp(vars(args))\n",
    "print()\n",
    "\n",
    "# the required seeds to average\n",
    "print('required seeds:', seeds)"
   ]
  },
  {
   "cell_type": "markdown",
   "id": "233a1b8d",
   "metadata": {},
   "source": [
    "⚪ ref_val"
   ]
  },
  {
   "cell_type": "code",
   "execution_count": 2,
   "id": "f8ac45b4",
   "metadata": {},
   "outputs": [
    {
     "name": "stdout",
     "output_type": "stream",
     "text": [
      "ref_val: -74.3871462681872\n"
     ]
    }
   ],
   "source": [
    "# the ref_val (ground truth)\n",
    "ref_val = solver_const(None, None)\n",
    "print('ref_val:', ref_val)"
   ]
  },
  {
   "cell_type": "code",
   "execution_count": 3,
   "id": "2408ac1a",
   "metadata": {},
   "outputs": [],
   "source": [
    "# helper func\n",
    "def eval_with_seed(args, seed:int, run_pulse:bool=True) -> Tuple[float, int]:\n",
    "  args.seed = seed\n",
    "  seed_everything(seed)\n",
    "  return eval(args, is_run_pulse=run_pulse)\n",
    "\n",
    "mean = lambda x: sum(x) / len(x) if len(x) else 0.0\n",
    "error = lambda x, y: abs(x - y)\n",
    "error_rate = lambda x, y: error(x, y) / abs(y)\n",
    "\n",
    "def eval_qsam_over_seeds(args):\n",
    "  # load pretrained qasm\n",
    "  args.qsam_fp = args.exp_dp / 'ansatz_t.qsam'\n",
    "  args.layout_fp = args.exp_dp / 'ansatz_t.layout'\n",
    "\n",
    "  # run over different seeds\n",
    "  energies, duration = [], None\n",
    "  for i, seed in enumerate(seeds, 1):\n",
    "    ene, dur = eval_with_seed(args, seed, run_pulse=i==1)\n",
    "    print(f'[{i}/{len(seeds)}] seed: {seed}, ene: {ene}')\n",
    "    energies.append(ene)\n",
    "    if dur is not None: duration = dur\n",
    "  enegry = mean(energies)\n",
    "\n",
    "  # average results\n",
    "  print('=' * 42)\n",
    "  print('enegry:', enegry)\n",
    "  print('duration:', duration)\n",
    "  print('error:', error(enegry, ref_val))\n",
    "  print(f'error rate: {error_rate(enegry, ref_val):%}')"
   ]
  },
  {
   "cell_type": "markdown",
   "id": "3c4ceacc",
   "metadata": {},
   "source": [
    "⚪ cairo"
   ]
  },
  {
   "cell_type": "code",
   "execution_count": 4,
   "id": "f0abdab3",
   "metadata": {},
   "outputs": [
    {
     "name": "stdout",
     "output_type": "stream",
     "text": [
      "[1/10] seed: 20, ene: -69.05218947681885\n",
      "[2/10] seed: 21, ene: -68.89457546446678\n",
      "[3/10] seed: 30, ene: -69.02147648629943\n",
      "[4/10] seed: 33, ene: -68.85758946315644\n",
      "[5/10] seed: 36, ene: -69.00565872186435\n",
      "[6/10] seed: 42, ene: -68.700140925467\n",
      "[7/10] seed: 43, ene: -68.94478015248717\n",
      "[8/10] seed: 55, ene: -69.01433758465011\n",
      "[9/10] seed: 67, ene: -68.94170174651723\n",
      "[10/10] seed: 170, ene: -68.65752906151835\n",
      "==========================================\n",
      "enegry: -68.90899790832457\n",
      "duration: 54720\n",
      "error: 5.4781483598626295\n",
      "error rate: 7.364375%\n"
     ]
    }
   ],
   "source": [
    "args.N = 'cairo'\n",
    "args.exp_dp = Path('log') / 'final_cairo'\n",
    "\n",
    "eval_qsam_over_seeds(args)"
   ]
  },
  {
   "cell_type": "markdown",
   "id": "6588fb94",
   "metadata": {},
   "source": [
    "⚪ kolkata"
   ]
  },
  {
   "cell_type": "code",
   "execution_count": 5,
   "id": "b41d7248",
   "metadata": {},
   "outputs": [
    {
     "name": "stdout",
     "output_type": "stream",
     "text": [
      "[1/10] seed: 20, ene: -70.18289448282869\n",
      "[2/10] seed: 21, ene: -70.21466700528333\n",
      "[3/10] seed: 30, ene: -70.2319970631723\n",
      "[4/10] seed: 33, ene: -70.14396770085001\n",
      "[5/10] seed: 36, ene: -70.08224031572259\n",
      "[6/10] seed: 42, ene: -69.8645170611019\n",
      "[7/10] seed: 43, ene: -70.07517777918355\n",
      "[8/10] seed: 55, ene: -70.14602410379399\n",
      "[9/10] seed: 67, ene: -70.09435919182089\n",
      "[10/10] seed: 170, ene: -70.11057439152863\n",
      "==========================================\n",
      "enegry: -70.11464190952859\n",
      "duration: 54720\n",
      "error: 4.272504358658608\n",
      "error rate: 5.743606%\n"
     ]
    }
   ],
   "source": [
    "args.N = 'kolkata'\n",
    "args.exp_dp = Path('log') / 'final_kolkata'\n",
    "\n",
    "eval_qsam_over_seeds(args)"
   ]
  },
  {
   "cell_type": "markdown",
   "id": "358a39e2",
   "metadata": {},
   "source": [
    "⚪ montreal"
   ]
  },
  {
   "cell_type": "code",
   "execution_count": 6,
   "id": "e3157312",
   "metadata": {},
   "outputs": [
    {
     "name": "stdout",
     "output_type": "stream",
     "text": [
      "[1/10] seed: 20, ene: -68.8865752186636\n",
      "[2/10] seed: 21, ene: -69.09429634611166\n",
      "[3/10] seed: 30, ene: -68.99392900601022\n",
      "[4/10] seed: 33, ene: -68.83621523897223\n",
      "[5/10] seed: 36, ene: -68.89169012827557\n",
      "[6/10] seed: 42, ene: -68.88937660244358\n",
      "[7/10] seed: 43, ene: -68.64393270047646\n",
      "[8/10] seed: 55, ene: -68.9878615241781\n",
      "[9/10] seed: 67, ene: -68.92158633321674\n",
      "[10/10] seed: 170, ene: -69.03280376221738\n",
      "==========================================\n",
      "enegry: -68.91782668605656\n",
      "duration: 54720\n",
      "error: 5.4693195821306375\n",
      "error rate: 7.352506%\n"
     ]
    }
   ],
   "source": [
    "args.N = 'montreal'\n",
    "args.exp_dp = Path('log') / 'final_montreal'\n",
    "\n",
    "eval_qsam_over_seeds(args)"
   ]
  },
  {
   "cell_type": "markdown",
   "id": "44ee37f2",
   "metadata": {},
   "source": [
    "⚠ noiseless (for debug use, not for final submission)"
   ]
  },
  {
   "cell_type": "code",
   "execution_count": null,
   "id": "7d7bc3e5",
   "metadata": {},
   "outputs": [],
   "source": [
    "args.N = ''\n",
    "args.exp_dp = Path('log') / 'test'\n",
    "\n",
    "eval_qsam_over_seeds(args)"
   ]
  }
 ],
 "metadata": {
  "kernelspec": {
   "display_name": "Python 3 (ipykernel)",
   "language": "python",
   "name": "python3"
  },
  "language_info": {
   "codemirror_mode": {
    "name": "ipython",
    "version": 3
   },
   "file_extension": ".py",
   "mimetype": "text/x-python",
   "name": "python",
   "nbconvert_exporter": "python",
   "pygments_lexer": "ipython3",
   "version": "3.11.4"
  }
 },
 "nbformat": 4,
 "nbformat_minor": 5
}
